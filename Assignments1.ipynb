{
  "nbformat": 4,
  "nbformat_minor": 0,
  "metadata": {
    "colab": {
      "provenance": [],
      "include_colab_link": true
    },
    "kernelspec": {
      "name": "python3",
      "display_name": "Python 3"
    },
    "language_info": {
      "name": "python"
    }
  },
  "cells": [
    {
      "cell_type": "markdown",
      "metadata": {
        "id": "view-in-github",
        "colab_type": "text"
      },
      "source": [
        "<a href=\"https://colab.research.google.com/github/sdivya-testengineer/Automation-Project/blob/main/Assignments1.ipynb\" target=\"_parent\"><img src=\"https://colab.research.google.com/assets/colab-badge.svg\" alt=\"Open In Colab\"/></a>"
      ]
    },
    {
      "cell_type": "markdown",
      "source": [
        "# Day 1"
      ],
      "metadata": {
        "id": "3fGE2bxEeGHh"
      }
    },
    {
      "cell_type": "code",
      "source": [],
      "metadata": {
        "id": "NLdKMPRsrUFt"
      },
      "execution_count": null,
      "outputs": []
    },
    {
      "cell_type": "markdown",
      "source": [
        "# Assignment 1"
      ],
      "metadata": {
        "id": "jvUku4F8f7E0"
      }
    },
    {
      "cell_type": "markdown",
      "source": [
        "Let's create a simplified supervised learning assignment using the classic Iris dataset. The goal is to classify iris species based on their features. This example will involve data loading, preprocessing, training a classifier, and evaluating its performance.\n",
        "\n",
        "### Assignment: Supervised Learning with the Iris Dataset\n",
        "\n",
        "#### Objective:\n",
        "The objective of this assignment is to help you understand and apply the principles of supervised learning using a simple dataset. You will practice data preprocessing, model training, evaluation, and interpretation of results.\n",
        "\n",
        "#### Dataset:\n",
        "You will use the Iris dataset, which contains information about iris flowers, including their sepal length, sepal width, petal length, and petal width, as well as their species. This dataset can be found in the `sklearn.datasets` module.\n",
        "\n",
        "#### Tasks:\n",
        "1. **Data Exploration and Preprocessing**\n",
        "    - Load the dataset and explore its structure.\n",
        "    - Perform data preprocessing if necessary.\n",
        "\n",
        "2. **Split the Data**\n",
        "    - Split the dataset into training and testing sets (80% training, 20% testing).\n",
        "\n",
        "3. **Train a Supervised Learning Model**\n",
        "    - Choose an appropriate supervised learning algorithm (e.g., Logistic Regression, Decision Tree).\n",
        "    - Train the model on the training data.\n",
        "\n",
        "4. **Evaluate the Model**\n",
        "    - Evaluate the model's performance using appropriate metrics (e.g., accuracy, confusion matrix).\n",
        "    - Interpret the results and discuss the model's performance.\n",
        "\n",
        "5. **Make Predictions**\n",
        "    - Use the trained model to make predictions on the test set.\n",
        "    - Compare the predicted values with the actual values and discuss the results.\n",
        "\n",
        "6. **Report**\n",
        "    - Write a brief report summarizing your findings, including data exploration, model training, evaluation, and interpretation of results.\n",
        "    - Include visualizations and code snippets where appropriate.\n",
        "\n",
        "#### Additional Resources:\n",
        "- [Scikit-learn Documentation](https://scikit-learn.org/stable/documentation.html)\n",
        "- [Pandas Documentation](https://pandas.pydata.org/docs/)\n",
        "- [Matplotlib Documentation](https://matplotlib.org/stable/contents.html)\n",
        "\n",
        "---\n",
        "\n",
        "\n",
        "This assignment will help you understand the basic workflow of supervised learning, from loading and exploring a dataset to training and evaluating a model. The example provided uses Logistic Regression on the Iris dataset, a classic classification problem. By following these steps, you will gain hands-on experience with supervised learning in Python using the Scikit-learn library."
      ],
      "metadata": {
        "id": "XfZufhgyead3"
      }
    },
    {
      "cell_type": "markdown",
      "source": [
        "# Assignment 2"
      ],
      "metadata": {
        "id": "IjN5zfGcgdbJ"
      }
    },
    {
      "cell_type": "markdown",
      "source": [
        "### Assignment: Unsupervised Learning with K-Means Clustering\n",
        "\n",
        "#### Objective:\n",
        "The objective of this assignment is to help you understand and apply the principles of unsupervised learning using the K-Means clustering algorithm. You will work with the Iris dataset to perform clustering and evaluate the results.\n",
        "\n",
        "#### Dataset:\n",
        "You will use the Iris dataset, which contains information about iris flowers, including their sepal length, sepal width, petal length, and petal width. The dataset can be found in the `sklearn.datasets` module.\n",
        "\n",
        "#### Tasks:\n",
        "1. **Data Exploration and Preprocessing**\n",
        "    - Load the Iris dataset and explore its structure.\n",
        "    - Visualize the data to understand its distribution and structure.\n",
        "\n",
        "2. **Apply K-Means Clustering**\n",
        "    - Apply the K-Means clustering algorithm to the dataset.\n",
        "    - Determine the optimal number of clusters using the Elbow method.\n",
        "\n",
        "3. **Visualize the Clusters**\n",
        "    - Use PCA (Principal Component Analysis) to reduce the data to 2D for visualization.\n",
        "    - Visualize the clusters formed by K-Means and compare them with the true labels.\n",
        "\n",
        "4. **Evaluate the Clustering**\n",
        "    - Create a confusion matrix to compare the cluster labels with the true labels.\n",
        "    - Discuss the clustering performance and the confusion matrix results.\n",
        "\n",
        "5. **Write a Report**\n",
        "    - Write a detailed report summarizing your findings, including data exploration, clustering application, visualization, and evaluation.\n",
        "    - Include visualizations and code snippets where appropriate.\n",
        "\n",
        "#### Additional Resources:\n",
        "- [Scikit-learn Documentation](https://scikit-learn.org/stable/documentation.html)\n",
        "- [Pandas Documentation](https://pandas.pydata.org/docs/)\n",
        "- [Matplotlib Documentation](https://matplotlib.org/stable/contents.html)\n"
      ],
      "metadata": {
        "id": "-OPpHwVVf48R"
      }
    },
    {
      "cell_type": "code",
      "execution_count": null,
      "metadata": {
        "id": "7D543fgjeBaR"
      },
      "outputs": [],
      "source": []
    },
    {
      "cell_type": "markdown",
      "source": [
        "# Run one own data set or execute code in new Notebook\n",
        "\n",
        "Section5_1_Applications of AI_NonLLM_ForQA.ipynb\n",
        "\n",
        "Section5_2xpathsgenlstm.ipynb\n",
        "\n",
        "## Change parameters like dataset; epoches etc"
      ],
      "metadata": {
        "id": "YXFTvMGlggqc"
      }
    },
    {
      "cell_type": "markdown",
      "source": [
        "\n",
        "\n",
        "---\n",
        "\n",
        "\n",
        "\n",
        "---\n",
        "\n",
        "\n",
        "\n",
        "---\n",
        "\n",
        "\n",
        "\n",
        "---\n",
        "\n",
        "\n",
        "\n",
        "---\n",
        "\n",
        "\n",
        "\n",
        "---\n",
        "\n"
      ],
      "metadata": {
        "id": "HE7K6T96eNXR"
      }
    },
    {
      "cell_type": "markdown",
      "source": [
        "# Day 2"
      ],
      "metadata": {
        "id": "idCWFUyHeKXu"
      }
    }
  ]
}